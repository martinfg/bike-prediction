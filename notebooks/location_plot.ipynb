{
 "cells": [
  {
   "cell_type": "markdown",
   "id": "964c1218",
   "metadata": {},
   "source": [
    "# Exploration of Data of Nextbike-API"
   ]
  },
  {
   "cell_type": "markdown",
   "id": "10ffb62e",
   "metadata": {},
   "source": [
    "### Observations / Assumptions\n",
    "\n",
    "- we can only see bikes which are free or reserved (booked) right now, we can't see bikes which are currently rented\n",
    "- available bikes includes the number of bikes which are reserved (booked)\n",
    "- the number of available bikes is 1349, this is the number we must get after preprocessing\n",
    "- we assume that there are two different kind of places:\n",
    "    - bike stations (spot=True and bike=False) where multiple bikes are assigned to one location\n",
    "    - individual bikes (spot=False and bike=True) where each bike has an own location\n",
    "- booked_bikes seems to mean the bikes that have been reserved in advance. So bikes_available_to_rent = bikes - booked_bikes\n",
    "- UIDs of bike stations seem to be in a different range than UIDs of bikes\n",
    "    \n",
    "### Open questions\n",
    "\n",
    "- What is the mapping of the bike types? 71, 150, 183, 196? Maybe one of them code for e-bikes?? Is this relevant for our prediction?\n",
    "- At a station where there are multiple bikes and some of them are reserved (booked), can we find out which of them is reserved and which is free?\n",
    "- What are the different place types?\n",
    "\n",
    "### Preprocessing\n",
    "\n",
    "- Keep all information from place-, city- and bike-list-section per bike\n",
    "- Maybe use [JQ](https://stedolan.github.io/jq/manual/) to filter the data and build a JSON that can be easily read by pandas \n",
    "- Parse name of place correctly (e.g. Straße)\n",
    "- Filter out the reserved bikes?"
   ]
  },
  {
   "cell_type": "code",
   "execution_count": null,
   "id": "63a7a9a8",
   "metadata": {},
   "outputs": [],
   "source": [
    "from IPython.display import display, HTML\n",
    "display(HTML(\"<style>.container { width:95% !important; }</style>\"))"
   ]
  },
  {
   "cell_type": "code",
   "execution_count": null,
   "id": "e901dac0",
   "metadata": {},
   "outputs": [],
   "source": [
    "%matplotlib notebook"
   ]
  },
  {
   "cell_type": "code",
   "execution_count": null,
   "id": "6f5f7f6d",
   "metadata": {},
   "outputs": [],
   "source": [
    "import pandas as pd\n",
    "import numpy as np\n",
    "# import matplotlib.pyplot as plt \n",
    "import json\n",
    "import plotly.graph_objects as go"
   ]
  },
  {
   "cell_type": "code",
   "execution_count": null,
   "id": "6634d03d",
   "metadata": {},
   "outputs": [],
   "source": [
    "pd.set_option('display.max_columns', None)\n",
    "pd.set_option('display.width', None)"
   ]
  },
  {
   "cell_type": "markdown",
   "id": "a2361f68",
   "metadata": {},
   "source": [
    "### Load sample data from API call"
   ]
  },
  {
   "cell_type": "code",
   "execution_count": null,
   "id": "531b77e8",
   "metadata": {},
   "outputs": [],
   "source": [
    "file_path = '../sample_data/bikes.json'"
   ]
  },
  {
   "cell_type": "code",
   "execution_count": null,
   "id": "0bfcaa60",
   "metadata": {},
   "outputs": [],
   "source": [
    "with open(file_path, 'r') as f:\n",
    "    data = json.load(f)"
   ]
  },
  {
   "cell_type": "code",
   "execution_count": null,
   "id": "e53e7b0e",
   "metadata": {},
   "outputs": [],
   "source": [
    "data_leipzig = data['countries'][0]['cities'][0]"
   ]
  },
  {
   "cell_type": "code",
   "execution_count": null,
   "id": "f314f6b6",
   "metadata": {},
   "outputs": [],
   "source": [
    "data_leipzig"
   ]
  },
  {
   "cell_type": "code",
   "execution_count": null,
   "id": "01ecb9ec",
   "metadata": {},
   "outputs": [],
   "source": [
    "places = data_leipzig['places']\n",
    "print(len(places))"
   ]
  },
  {
   "cell_type": "markdown",
   "id": "d8184bca",
   "metadata": {},
   "source": [
    "It makes sense that we get less places than available bikes since there are places without any bikes assigned and places with multiple bikes."
   ]
  },
  {
   "cell_type": "code",
   "execution_count": null,
   "id": "f22dd66e",
   "metadata": {},
   "outputs": [],
   "source": [
    "bike_stations = [p for p in places if p['spot'] == True and p['bike'] == False]\n",
    "len(bike_stations)"
   ]
  },
  {
   "cell_type": "markdown",
   "id": "f37d3483",
   "metadata": {},
   "source": [
    "There were 71 stations during this API call, let's see if that number changes when we take an API call with another timestamp."
   ]
  },
  {
   "cell_type": "code",
   "execution_count": null,
   "id": "6ca29585",
   "metadata": {},
   "outputs": [],
   "source": [
    "free_bikes = [p for p in places if p['spot'] == False and p['bike'] == True]\n",
    "len(free_bikes)"
   ]
  },
  {
   "cell_type": "code",
   "execution_count": null,
   "id": "97a0fa66",
   "metadata": {},
   "outputs": [],
   "source": [
    "places_with_booked_bikes = [p for p in places if p['bikes_available_to_rent'] < p['bikes']]\n",
    "len(places_with_booked_bikes)"
   ]
  },
  {
   "cell_type": "code",
   "execution_count": null,
   "id": "63dcd2b0",
   "metadata": {},
   "outputs": [],
   "source": [
    "assert len(bike_stations) + len(free_bikes) == len(places), \"the number of bike stations and free bikes should add up to the number of all places\"\n",
    "assert len(free_bikes) == len([b for b in free_bikes if b['bike'] == 1]), \"following our assumption, there should be no individual bike with a bike count different from 1\"\n",
    "\n",
    "amount_bikes = 0\n",
    "\n",
    "for p in places:\n",
    "    amount_bikes += len(p['bike_list'])\n",
    "    \n",
    "assert data_leipzig['available_bikes'] == amount_bikes, \"following our assumption, the number of available bikes should be equal to the number of bikes appearing in the bike_lists\"\n",
    "\n",
    "amount_booked_bikes = 0\n",
    "\n",
    "for p in places_with_booked_bikes:\n",
    "    amount_booked_bikes += p['bikes'] - p['bikes_available_to_rent']\n",
    "    \n",
    "assert data_leipzig['booked_bikes'] == amount_booked_bikes, \"following our assumption, the number of booked bikes should be equal to the number of total bikes minus the number of bikes available to rent\""
   ]
  },
  {
   "cell_type": "code",
   "execution_count": null,
   "id": "576ec594",
   "metadata": {},
   "outputs": [],
   "source": [
    "bike_stations"
   ]
  },
  {
   "cell_type": "markdown",
   "id": "8c0d6d88",
   "metadata": {},
   "source": [
    "### Get Location of bikes\n",
    "\n",
    "- Extract geo locations from the lists we built out of the JSON file and put them in a dictionary."
   ]
  },
  {
   "cell_type": "code",
   "execution_count": null,
   "id": "81d06986",
   "metadata": {},
   "outputs": [],
   "source": [
    "free_bike_locations = {}\n",
    "station_bike_locations = {}\n",
    "\n",
    "for p in free_bikes:\n",
    "    for bike in p['bike_list']:\n",
    "        free_bike_locations.update({bike['number']: {'lat': p['lat'], 'lng': p['lng']}})\n",
    "        \n",
    "for p in bike_stations:\n",
    "    for bike in p['bike_list']:\n",
    "        station_bike_locations.update({bike['number']: {'lat': p['lat'], 'lng': p['lng']}})"
   ]
  },
  {
   "cell_type": "code",
   "execution_count": null,
   "id": "6e9b46f0",
   "metadata": {},
   "outputs": [],
   "source": [
    "stations = {}\n",
    "for p in bike_stations:\n",
    "    stations.update({p['number']: {'name': p['name'], 'lat': p['lat'], 'lng': p['lng'], 'bikes': p['bikes'], 'bikes_available_to_rent': p['bikes_available_to_rent']}})"
   ]
  },
  {
   "cell_type": "code",
   "execution_count": null,
   "id": "4a6dcebc",
   "metadata": {},
   "outputs": [],
   "source": [
    "free_bike_locations_df = pd.DataFrame.from_dict(free_bike_locations, orient='index')\n",
    "station_bike_locations_df = pd.DataFrame.from_dict(station_bike_locations, orient='index')\n",
    "stations_df = pd.DataFrame.from_dict(stations, orient='index')"
   ]
  },
  {
   "cell_type": "code",
   "execution_count": null,
   "id": "35fa8df3",
   "metadata": {},
   "outputs": [],
   "source": [
    "free_bike_locations_df.head()"
   ]
  },
  {
   "cell_type": "code",
   "execution_count": null,
   "id": "916049ca",
   "metadata": {},
   "outputs": [],
   "source": [
    "len(free_bike_locations)"
   ]
  },
  {
   "cell_type": "code",
   "execution_count": null,
   "id": "4978ef5e",
   "metadata": {},
   "outputs": [],
   "source": [
    "station_bike_locations_df.head()"
   ]
  },
  {
   "cell_type": "code",
   "execution_count": null,
   "id": "99822e5e",
   "metadata": {},
   "outputs": [],
   "source": [
    "len(station_bike_locations_df)"
   ]
  },
  {
   "cell_type": "code",
   "execution_count": null,
   "id": "927cf26a",
   "metadata": {},
   "outputs": [],
   "source": [
    "stations_df.head()"
   ]
  },
  {
   "cell_type": "code",
   "execution_count": null,
   "id": "3e63d738",
   "metadata": {},
   "outputs": [],
   "source": [
    "len(stations_df)"
   ]
  },
  {
   "cell_type": "markdown",
   "id": "a87a6d74",
   "metadata": {},
   "source": [
    "- It would be nice to have an additional attribute from type list which contains all related bike numbers.\n",
    "- Also it would be great to parse the strings correctly so that we can see the \"Umlaute\"."
   ]
  },
  {
   "cell_type": "markdown",
   "id": "d5406d47",
   "metadata": {},
   "source": [
    "## Plot bikes on map"
   ]
  },
  {
   "cell_type": "code",
   "execution_count": null,
   "id": "c23a2b18",
   "metadata": {},
   "outputs": [],
   "source": [
    "mapbox_access_token = \"pk.eyJ1IjoiYW5kcmVhc2tpeiIsImEiOiJjbDR1MXBseW4wdnl3M2NudTV2djhmOGRkIn0.ziKnGcQULxdwxhkAjiJBHg\"\n",
    "\n",
    "fig = go.Figure()\n",
    "\n",
    "# add station markers to map\n",
    "for index, row in stations_df.iterrows():\n",
    "    fig.add_trace(go.Scattermapbox(\n",
    "        lat=[row['lat']],\n",
    "        lon=[row['lng']],\n",
    "        mode='markers',\n",
    "        marker=go.scattermapbox.Marker(\n",
    "            size=10,\n",
    "            color='#1e3799'            \n",
    "        ),\n",
    "        text=\"Station \" + str(index),\n",
    "        name=row['name']\n",
    "        ))\n",
    "\n",
    "# add free bike markers to map (only head because it starts lagging otherwise)\n",
    "for index, row in free_bike_locations_df.head(100).iterrows():\n",
    "    fig.add_trace(go.Scattermapbox(\n",
    "        lat=[row['lat']],\n",
    "        lon=[row['lng']],\n",
    "        mode='markers',\n",
    "        marker=go.scattermapbox.Marker(\n",
    "            size=10,\n",
    "            color='#e84118'            \n",
    "        ),\n",
    "        text=\"Bike \" + str(index),\n",
    "        ))\n",
    "    \n",
    "fig.update_layout(\n",
    "    mapbox_style=\"open-street-map\",\n",
    "    height=800,\n",
    "    width=1200,\n",
    "    margin=go.layout.Margin(\n",
    "        l=0, # left margin\n",
    "        r=0, # right margin\n",
    "        b=0, # bottom margin\n",
    "        t=0, # top margin\n",
    "    ),\n",
    "    hovermode='closest',\n",
    "    mapbox=dict(\n",
    "        accesstoken=mapbox_access_token,\n",
    "        bearing=0,\n",
    "        center=go.layout.mapbox.Center(\n",
    "            lat=51.34083402293,\n",
    "            lon=12.375113185144219\n",
    "        ),\n",
    "        pitch=0,\n",
    "        zoom=10\n",
    "    )\n",
    ")\n",
    "\n",
    "fig.update_layout(showlegend=False)\n",
    "\n",
    "fig.show()"
   ]
  },
  {
   "cell_type": "code",
   "execution_count": null,
   "id": "47e4817f",
   "metadata": {},
   "outputs": [],
   "source": [
    "locations = [{'id': b['uid'],'latitude': b['lat'], 'longitude': b['lng'] } for b in bikes]"
   ]
  },
  {
   "cell_type": "code",
   "execution_count": null,
   "id": "df687a1f",
   "metadata": {},
   "outputs": [],
   "source": [
    "locations_df = pd.DataFrame(locations)"
   ]
  },
  {
   "cell_type": "code",
   "execution_count": null,
   "id": "62765ff3",
   "metadata": {},
   "outputs": [],
   "source": [
    "locations_df.head(5)"
   ]
  },
  {
   "cell_type": "markdown",
   "id": "1b81d43a",
   "metadata": {},
   "source": [
    "### Debug locations"
   ]
  },
  {
   "cell_type": "code",
   "execution_count": null,
   "id": "f7cb20a2",
   "metadata": {},
   "outputs": [],
   "source": [
    "northest_bike_loc = [northest_bike['latitude'], northest_bike['longitude']]\n",
    "northest_bike_loc"
   ]
  },
  {
   "cell_type": "code",
   "execution_count": null,
   "id": "d9c7d797",
   "metadata": {},
   "outputs": [],
   "source": [
    "northest_bike"
   ]
  },
  {
   "cell_type": "code",
   "execution_count": null,
   "id": "acab0bfa",
   "metadata": {},
   "outputs": [],
   "source": [
    "northest_bike = min(locations, key=lambda x: x['longitude'])"
   ]
  },
  {
   "cell_type": "markdown",
   "id": "424a8eb5",
   "metadata": {},
   "source": [
    "#### What's beneath here is trash"
   ]
  },
  {
   "cell_type": "code",
   "execution_count": null,
   "id": "06dbabf0",
   "metadata": {},
   "outputs": [],
   "source": [
    "# possible reading with pandas\n",
    "bike_df = pd.json_normalize(data=data['countries'], record_path=['cities', 'places', 'bike_list'],\n",
    "                               meta=['lat', 'lng',\n",
    "                                    'show_bike_types', 'show_bike_type_groups',\n",
    "                                    'show_free_racks', 'booked_bikes', 'set_point_bikes', 'available_bikes',\n",
    "                                    ])\n",
    "\n",
    "# meta information i dropped: pricing, faq_url, name, language, cities, 'store_uri_android', 'store_uri_ios', website, policy, 'system_operator_address', 'country', 'country_name', 'terms', 'policy', 'name', 'hotline'\n",
    "# domain, language, email, zoom, currency, country_calling_code, no_registration, 'capped_available_bikes'\n",
    "bike_df.head(3)"
   ]
  }
 ],
 "metadata": {
  "jupytext": {
   "formats": "ipynb,auto:percent"
  },
  "kernelspec": {
   "display_name": "nextbike-prediction",
   "language": "python",
   "name": "nextbike-prediction"
  },
  "language_info": {
   "codemirror_mode": {
    "name": "ipython",
    "version": 3
   },
   "file_extension": ".py",
   "mimetype": "text/x-python",
   "name": "python",
   "nbconvert_exporter": "python",
   "pygments_lexer": "ipython3",
   "version": "3.10.4"
  }
 },
 "nbformat": 4,
 "nbformat_minor": 5
}
